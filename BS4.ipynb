{
 "cells": [
  {
   "cell_type": "code",
   "execution_count": 1,
   "id": "cf520d4b",
   "metadata": {},
   "outputs": [],
   "source": [
    "from bs4 import BeautifulSoup"
   ]
  },
  {
   "cell_type": "code",
   "execution_count": 3,
   "id": "994c1166",
   "metadata": {},
   "outputs": [
    {
     "data": {
      "text/plain": [
       "\n",
       "<!DOCTYPE html>\n",
       "\n",
       "<html>\n",
       "<head>\n",
       "<title>Employee Information</title>\n",
       "</head>\n",
       "<body>\n",
       "<h1>Employee List</h1>\n",
       "<table border=\"1\">\n",
       "<tr>\n",
       "<th>ID</th>\n",
       "<th>Name</th>\n",
       "<th>Position</th>\n",
       "<th>Salary</th>\n",
       "</tr>\n",
       "<tr>\n",
       "<td>1</td>\n",
       "<td>John Doe</td>\n",
       "<td>Software Engineer</td>\n",
       "<td>100000</td>\n",
       "</tr>\n",
       "<tr>\n",
       "<td>2</td>\n",
       "<td>Jane Smith</td>\n",
       "<td>Data Scientist</td>\n",
       "<td>120000</td>\n",
       "</tr>\n",
       "<tr>\n",
       "<td>3</td>\n",
       "<td>Mike Johnson</td>\n",
       "<td>Project Manager</td>\n",
       "<td>110000</td>\n",
       "</tr>\n",
       "</table>\n",
       "</body>\n",
       "</html>"
      ]
     },
     "execution_count": 3,
     "metadata": {},
     "output_type": "execute_result"
    }
   ],
   "source": [
    "from bs4 import BeautifulSoup\n",
    "\n",
    "# Read from local HTML file\n",
    "with open(\"Round 2_ Station 3_ employee_info.html\", \"r\", encoding=\"utf-8\") as file:\n",
    "    content = file.read()\n",
    "\n",
    "# Parse with BeautifulSoup\n",
    "soup = BeautifulSoup(content, \"html.parser\")\n",
    "\n",
    "soup"
   ]
  },
  {
   "cell_type": "code",
   "execution_count": 12,
   "id": "3aced0ce",
   "metadata": {},
   "outputs": [
    {
     "name": "stdout",
     "output_type": "stream",
     "text": [
      "ID\n",
      "Name\n",
      "Position\n",
      "Salary\n"
     ]
    }
   ],
   "source": [
    "# Example: print all paragraph texts\n",
    "headers = []\n",
    "for p in soup.find_all(\"th\"):\n",
    "    headers.append(p.text)\n",
    "    print(p.text)"
   ]
  },
  {
   "cell_type": "code",
   "execution_count": 13,
   "id": "85185d7a",
   "metadata": {},
   "outputs": [
    {
     "data": {
      "text/plain": [
       "['ID', 'Name', 'Position', 'Salary']"
      ]
     },
     "execution_count": 13,
     "metadata": {},
     "output_type": "execute_result"
    }
   ],
   "source": [
    "headers"
   ]
  },
  {
   "cell_type": "code",
   "execution_count": 16,
   "id": "1ad7d303",
   "metadata": {},
   "outputs": [
    {
     "name": "stdout",
     "output_type": "stream",
     "text": [
      "[['1', 'John Doe', 'Software Engineer', '100000'], ['2', 'Jane Smith', 'Data Scientist', '120000'], ['3', 'Mike Johnson', 'Project Manager', '110000']]\n"
     ]
    }
   ],
   "source": [
    "rows = []\n",
    "for p in soup.find_all(\"tr\")[1:]:\n",
    "    columns = p.find_all(\"td\")\n",
    "    rows.append([col.text for col in columns])\n",
    "    \n",
    "print(rows)"
   ]
  },
  {
   "cell_type": "code",
   "execution_count": 19,
   "id": "b14d550d",
   "metadata": {},
   "outputs": [
    {
     "data": {
      "text/html": [
       "<div>\n",
       "<style scoped>\n",
       "    .dataframe tbody tr th:only-of-type {\n",
       "        vertical-align: middle;\n",
       "    }\n",
       "\n",
       "    .dataframe tbody tr th {\n",
       "        vertical-align: top;\n",
       "    }\n",
       "\n",
       "    .dataframe thead th {\n",
       "        text-align: right;\n",
       "    }\n",
       "</style>\n",
       "<table border=\"1\" class=\"dataframe\">\n",
       "  <thead>\n",
       "    <tr style=\"text-align: right;\">\n",
       "      <th></th>\n",
       "      <th>ID</th>\n",
       "      <th>Name</th>\n",
       "      <th>Position</th>\n",
       "      <th>Salary</th>\n",
       "    </tr>\n",
       "  </thead>\n",
       "  <tbody>\n",
       "    <tr>\n",
       "      <th>0</th>\n",
       "      <td>1</td>\n",
       "      <td>John Doe</td>\n",
       "      <td>Software Engineer</td>\n",
       "      <td>100000</td>\n",
       "    </tr>\n",
       "    <tr>\n",
       "      <th>1</th>\n",
       "      <td>2</td>\n",
       "      <td>Jane Smith</td>\n",
       "      <td>Data Scientist</td>\n",
       "      <td>120000</td>\n",
       "    </tr>\n",
       "    <tr>\n",
       "      <th>2</th>\n",
       "      <td>3</td>\n",
       "      <td>Mike Johnson</td>\n",
       "      <td>Project Manager</td>\n",
       "      <td>110000</td>\n",
       "    </tr>\n",
       "  </tbody>\n",
       "</table>\n",
       "</div>"
      ],
      "text/plain": [
       "  ID          Name           Position  Salary\n",
       "0  1      John Doe  Software Engineer  100000\n",
       "1  2    Jane Smith     Data Scientist  120000\n",
       "2  3  Mike Johnson    Project Manager  110000"
      ]
     },
     "execution_count": 19,
     "metadata": {},
     "output_type": "execute_result"
    }
   ],
   "source": [
    "import pandas as pd\n",
    "pd.DataFrame(rows, columns = headers)"
   ]
  },
  {
   "cell_type": "code",
   "execution_count": null,
   "id": "e7f32c89",
   "metadata": {},
   "outputs": [
    {
     "name": "stdout",
     "output_type": "stream",
     "text": [
      "File /Round 2_ Station 2/feedback_1.txt not found.\n",
      "File /Round 2_ Station 2/feedback_2.txt not found.\n",
      "File /Round 2_ Station 2/feedback_3.txt not found.\n",
      "File /Round 2_ Station 2/feedback_4.txt not found.\n",
      "File /Round 2_ Station 2/feedback_5.txt not found.\n"
     ]
    }
   ],
   "source": [
    "results = []\n",
    "\n",
    "for i in range(1, 6):  # Loop from 1 to 5\n",
    "    file_name = f'/content/feedback_{i}.txt'  # Construct filename dynamically\n",
    "    \n",
    "    try:\n",
    "        with open(file_name, 'r') as file:  # Try to open each file\n",
    "            content = file.read()  # Read the full content of the file\n",
    "            \n",
    "            print(f'Contents of {file_name}:')\n",
    "            print(content)  # Print the content\n",
    "            print('-' * 40)  # Print separator line\n",
    "            \n",
    "            results.append(content)  # Save the content to the results list\n",
    "    \n",
    "    except FileNotFoundError:  # Handle case where the file doesn't exist\n",
    "        print(f'File {file_name} not found.')"
   ]
  },
  {
   "cell_type": "code",
   "execution_count": null,
   "id": "a3491016",
   "metadata": {},
   "outputs": [],
   "source": [
    "import requests\n",
    "from bs4 import BeautifulSoup\n",
    "\n",
    "# Get the web page\n",
    "url = \"https://example.com\"\n",
    "response = requests.get(url)\n",
    "\n",
    "# Parse HTML\n",
    "soup = BeautifulSoup(response.text, \"html.parser\")\n",
    "\n",
    "# Example: print the page title\n",
    "print(soup.title.string)"
   ]
  }
 ],
 "metadata": {
  "kernelspec": {
   "display_name": "base",
   "language": "python",
   "name": "python3"
  },
  "language_info": {
   "codemirror_mode": {
    "name": "ipython",
    "version": 3
   },
   "file_extension": ".py",
   "mimetype": "text/x-python",
   "name": "python",
   "nbconvert_exporter": "python",
   "pygments_lexer": "ipython3",
   "version": "3.12.7"
  }
 },
 "nbformat": 4,
 "nbformat_minor": 5
}
